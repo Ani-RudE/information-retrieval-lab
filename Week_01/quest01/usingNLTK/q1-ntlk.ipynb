{
 "cells": [
  {
   "cell_type": "code",
   "execution_count": 11,
   "metadata": {},
   "outputs": [
    {
     "name": "stderr",
     "output_type": "stream",
     "text": [
      "[nltk_data] Downloading package stopwords to C:\\Users\\ANIRUDDHA\n",
      "[nltk_data]     DEWANGAN\\AppData\\Roaming\\nltk_data...\n",
      "[nltk_data]   Package stopwords is already up-to-date!\n"
     ]
    }
   ],
   "source": [
    "import nltk\n",
    "from nltk.corpus import stopwords\n",
    "import string\n",
    "\n",
    "nltk.download('stopwords')\n",
    "stop_words = set(stopwords.words('english'))"
   ]
  },
  {
   "cell_type": "code",
   "execution_count": 12,
   "metadata": {},
   "outputs": [
    {
     "name": "stdout",
     "output_type": "stream",
     "text": [
      "Cleaned text:\n",
      " context early disease detection machine learning ml emerged vital tool feature selection fs algorithms play crucial role ensuring accuracy predictive models identifying influential variables study focusing retrospective cohort 4778 covid-19 patients iran explores performance various fs methods including filter embedded hybrid approaches predicting mortality outcomes researchers leveraged 115 routine clinical laboratory demographic features employed 13 ml models assess effectiveness fs methods based classification accuracy predictive accuracy statistical tests results indicate hybrid boruta-vi model combined random forest algorithm demonstrated superior performance achieving accuracy 0.89 f1 score 0.76 auc value 0.95 test data key variables identified important predictors adverse outcomes include age oxygen saturation levels albumin levels neutrophil counts platelet levels markers kidney function findings highlight potential advanced fs techniques ml models enhancing early disease detection informing clinical decision-making\n"
     ]
    }
   ],
   "source": [
    "def load_text(text_file):\n",
    "    with open(text_file, 'r') as file:\n",
    "        text = file.read().lower()\n",
    "    return text\n",
    "\n",
    "def remove_stopwords(text):\n",
    "    words = text.split()\n",
    "    cleaned_words = [word.strip(string.punctuation) for word in words if word not in stop_words]\n",
    "    cleaned_text = ' '.join(cleaned_words)\n",
    "    return cleaned_text\n",
    "\n",
    "def save_cleaned_text(output_file, cleaned_text):\n",
    "    with open(output_file, 'w') as file:\n",
    "        file.write(cleaned_text)\n",
    "\n",
    "text_file = 'input.txt'\n",
    "output_file = 'output.txt'\n",
    "\n",
    "text = load_text(text_file)\n",
    "cleaned_text = remove_stopwords(text)\n",
    "save_cleaned_text(output_file, cleaned_text)\n",
    "print(\"Cleaned text:\\n\", cleaned_text)"
   ]
  }
 ],
 "metadata": {
  "kernelspec": {
   "display_name": "Python 3",
   "language": "python",
   "name": "python3"
  },
  "language_info": {
   "codemirror_mode": {
    "name": "ipython",
    "version": 3
   },
   "file_extension": ".py",
   "mimetype": "text/x-python",
   "name": "python",
   "nbconvert_exporter": "python",
   "pygments_lexer": "ipython3",
   "version": "3.11.1"
  }
 },
 "nbformat": 4,
 "nbformat_minor": 2
}
