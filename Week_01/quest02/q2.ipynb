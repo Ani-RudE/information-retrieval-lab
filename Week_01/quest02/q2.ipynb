{
 "cells": [
  {
   "cell_type": "markdown",
   "metadata": {},
   "source": [
    "Q. Write a program to build/construct an inverted indexer by collecting n-number of text documents"
   ]
  },
  {
   "cell_type": "code",
   "execution_count": 1,
   "metadata": {},
   "outputs": [],
   "source": [
    "import os\n",
    "import json\n",
    "import re\n",
    "from collections import defaultdict"
   ]
  },
  {
   "cell_type": "code",
   "execution_count": 2,
   "metadata": {},
   "outputs": [],
   "source": [
    "# Directory containing the text documents\n",
    "docs_directory = \"/docs\""
   ]
  },
  {
   "cell_type": "code",
   "execution_count": 3,
   "metadata": {},
   "outputs": [],
   "source": [
    "# Function to tokenize and normalize the text\n",
    "def tokenize(text):\n",
    "    # Remove punctuation and split text into words\n",
    "    tokens = re.findall(r'\\b\\w+\\b', text.lower())\n",
    "    return tokens"
   ]
  },
  {
   "cell_type": "code",
   "execution_count": 5,
   "metadata": {},
   "outputs": [],
   "source": [
    "\n",
    "# Building the inverted index\n",
    "def build_inverted_index(directory):\n",
    "    inverted_index = defaultdict(list)\n",
    "    \n",
    "    # Iterate through all text files in the directory\n",
    "    for filename in os.listdir(directory):\n",
    "        if filename.endswith(\".txt\"):\n",
    "            file_path = os.path.join(directory, filename)\n",
    "            with open(file_path, 'r', encoding='utf-8') as file:\n",
    "                content = file.read()\n",
    "                tokens = tokenize(content)\n",
    "                \n",
    "                # Add each token to the inverted index\n",
    "                for token in tokens:\n",
    "                    if filename not in inverted_index[token]:\n",
    "                        inverted_index[token].append(filename)\n",
    "    \n",
    "    return inverted_index"
   ]
  },
  {
   "cell_type": "code",
   "execution_count": 7,
   "metadata": {},
   "outputs": [],
   "source": [
    "# Save the inverted index to a JSON file\n",
    "def save_inverted_index(index, output_file):\n",
    "    with open(output_file, 'w', encoding='utf-8') as file:\n",
    "        json.dump(index, file, indent=4)"
   ]
  },
  {
   "cell_type": "code",
   "execution_count": 9,
   "metadata": {},
   "outputs": [
    {
     "name": "stdout",
     "output_type": "stream",
     "text": [
      "Inverted index saved to inverted_index.json\n"
     ]
    }
   ],
   "source": [
    "# Main process\n",
    "if __name__ == \"__main__\":\n",
    "    docs_directory = \"./docs\"  # Update this to the correct path if needed\n",
    "    output_file = \"inverted_index.json\"\n",
    "    \n",
    "    # Build the index\n",
    "    index = build_inverted_index(docs_directory)\n",
    "    \n",
    "    # Save the index to a JSON file\n",
    "    save_inverted_index(index, output_file)\n",
    "    print(f\"Inverted index saved to {output_file}\")"
   ]
  }
 ],
 "metadata": {
  "kernelspec": {
   "display_name": "Python 3",
   "language": "python",
   "name": "python3"
  },
  "language_info": {
   "codemirror_mode": {
    "name": "ipython",
    "version": 3
   },
   "file_extension": ".py",
   "mimetype": "text/x-python",
   "name": "python",
   "nbconvert_exporter": "python",
   "pygments_lexer": "ipython3",
   "version": "3.11.1"
  }
 },
 "nbformat": 4,
 "nbformat_minor": 2
}
